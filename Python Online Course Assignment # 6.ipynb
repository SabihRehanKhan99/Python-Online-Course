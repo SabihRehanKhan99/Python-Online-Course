{
 "cells": [
  {
   "cell_type": "markdown",
   "metadata": {},
   "source": [
    "# ASSIGNMENT # 6"
   ]
  },
  {
   "cell_type": "markdown",
   "metadata": {},
   "source": [
    "# Question 1: Define Object Oriented Programming Language?"
   ]
  },
  {
   "cell_type": "markdown",
   "metadata": {},
   "source": [
    "#### Object-oriented programming (OOP) refers to a type of computer programming (software design) in which programmers define the data type of a data structure, and also the types of operations (functions) that can be applied to the data structure.\n",
    "\n",
    "#### In this way, the data structure becomes an object that includes both data and functions. In addition, programmers can create relationships between one object and another. For example, objects can inherit characteristics from other objects."
   ]
  },
  {
   "cell_type": "markdown",
   "metadata": {},
   "source": [
    "# Question 2: List down the Benefits of OOP?"
   ]
  },
  {
   "cell_type": "markdown",
   "metadata": {},
   "source": [
    "#### The advantages of object-oriented programming lie in this kind of encapsulation. Here’s a detailed look at some of OOP’s top benefits:\n",
    "## 1. Modularity for easier troubleshooting\n",
    "#### Something has gone wrong, and you have no idea where to look. Is the problem in the Widget file, or is it the WhaleFlumper? Will you have to trudge through that “sewage.c” file? Hope you commented your code!\n",
    "\n",
    "#### When working with object-oriented programming languages, you know exactly where to look. “Oh, the car object broke down? The problem must be in the Car class!” You don’t have to muck through anything else.\n",
    "\n",
    "#### That’s the beauty of encapsulation. Objects are self-contained, and each bit of functionality does its own thing while leaving the other bits alone. Also, this modality allows an IT team to work on multiple objects simultaneously while minimizing the chance that one person might duplicate someone else’s functionality.\n",
    "## 2. Reuse of code through inheritance\n",
    "#### Suppose that in addition to your Car object, one colleague needs a RaceCar object, and another needs a Limousine object. Everyone builds their objects separately but discover commonalities between them. In fact, each object is really just a different kind of Car. This is where the inheritance technique saves time: Create one generic class (Car), and then define the subclasses (RaceCar and Limousine) that are to inherit the generic class’s traits.\n",
    "\n",
    "#### Of course, Limousine and RaceCar still have their unique attributes and functions. If the RaceCar object needs a method to “fireAfterBurners” and the Limousine object requires a Chauffeur, each class could implement separate functions just for itself. However, because both classes inherit key aspects from the Car class, for example the “drive” or “fillUpGas” methods, your inheriting classes can simply reuse existing code instead of writing these functions all over again.\n",
    "\n",
    "#### What if you want to make a change to all Car objects, regardless of type? This is another advantage of the OO approach. Simply make a change to your Car class, and all car objects will simply inherit the new code.\n",
    "## 3. Flexibility through polymorphism\n",
    "#### Riffing on this example, you now need just a few drivers, or functions, like “driveCar,” driveRaceCar” and “DriveLimousine.” RaceCarDrivers share some traits with LimousineDrivers, but other things, like RaceHelmets and BeverageSponsorships, are unique.\n",
    "\n",
    "#### This is where object-oriented programming’s sweet polymorphism comes into play. Because a single function can shape-shift to adapt to whichever class it’s in, you could create one function in the parent Car class called “drive” — not “driveCar” or “driveRaceCar,” but just “drive.” This one function would work with the RaceCarDriver, LimousineDriver, etc. In fact, you could even have “raceCar.drive(myRaceCarDriver)” or “limo.drive(myChauffeur).”\n",
    "## 4. Effective problem solving\n",
    "#### A language like C has an amazing legacy in programming history, but writing software in a top-down language is like playing Jenga while wearing mittens. The more complex it gets, the greater the chance it will collapse. Meanwhile, writing a functional-style program in a language like Haskell or ML can be a chore.\n",
    "\n",
    "#### Object-oriented programming is often the most natural and pragmatic approach, once you get the hang of it. OOP languages allows you to break down your software into bite-sized problems that you then can solve — one object at a time.\n",
    "\n",
    "#### This isn’t to say that OOP is the One True Way. However, the advantages of object-oriented programming are many. When you need to solve complex programming challenges and want to add code tools to your skill set, OOP is your friend — and has much greater longevity and utility than Pac-Man or parachute pants."
   ]
  },
  {
   "cell_type": "markdown",
   "metadata": {},
   "source": [
    "# Question 3: Differentiate between function and method?"
   ]
  },
  {
   "cell_type": "markdown",
   "metadata": {},
   "source": [
    "#### A function is a piece of code that is called by name. It can be passed data to operate on (i.e. the parameters) and can optionally return data (the return value). All data that is passed to a function is explicitly passed.\n",
    "\n",
    "#### A method is a piece of code that is called by a name that is associated with an object. In most respects it is identical to a function except for two key differences:\n",
    "\n",
    "#### 1) A method is implicitly passed the object on which it was called.\n",
    "#### 2) A method is able to operate on data that is contained within the class (remembering that an object is an instance of a class - the class is the definition, the object is an instance of that data)."
   ]
  },
  {
   "cell_type": "markdown",
   "metadata": {},
   "source": [
    "# Question 4: Define the following terms:"
   ]
  },
  {
   "cell_type": "markdown",
   "metadata": {},
   "source": [
    "# 1) Class:\n",
    "####                    A class is a code template for creating objects. Objects have member variables and have behaviour associated with               them. In python a class is created by the keyword class . An object is created using the constructor of the class. This object                 will then be called the instance of the class.\n",
    "# 2) Object:\n",
    "####                    Python is an object-oriented programming language. ... This defines a set of attributes that will characterize any                        object that is instantiated from this class. Object — An instance of a class. This is the realized version of the class, where the                class is manifested in the program.\n",
    "# 3) Attribute:\n",
    "####                          An instance attribute is a Python variable belonging to one, and only one, object. This variable is only accessible               in the scope of this object and it is defined inside the constructor function, __init__(self,..) of the class.\n",
    "\n",
    "####    A class attribute is a Python variable that belongs to a class rather than a particular object. It is shared between all the objects             of this class and it is defined outside the constructor function, __init__(self,...), of the class.\n",
    "# 4) Behavior:\n",
    "####                           Objects in Python are generally classified according to their behaviors and the features that they implement. For                example, all of the sequence types such as strings, lists, and tuples are grouped together merely because they all happen to                support a common set of sequence operations such as s[n], len(s), etc. All basic interpreter operations are implemented                        through special object methods. The names of special methods are always preceded and followed by double underscores                    (__). These methods are automatically triggered by the interpreter as a program executes. For example, the operation x + y is                mapped to an internal method, x.__add__(y), and an indexing operation, x[k], is mapped to x.__getitem__(k). The behavior of                each data type depends entirely on the set of special methods that it implements.\n",
    "\n",
    "####     User-defined classes can define new objects that behave like the built-in types simply by supplying an appropriate subset of                the special methods described in this section. In addition, built-in types such as lists and dictionaries can be specialized (via                inheritance) by redefining some of the special methods."
   ]
  },
  {
   "cell_type": "markdown",
   "metadata": {},
   "source": [
    "# Question 5: \n",
    "###                    Write a code in python in which create a class named it Car which have 5 attributes such like                 (model, color and name etc.) and 3 methods. And create 5 object instance from that class."
   ]
  },
  {
   "cell_type": "code",
   "execution_count": null,
   "metadata": {},
   "outputs": [],
   "source": [
    "class Car():\n",
    "    def __init__(self,model,color,name,brand,engine_no):\n",
    "        self.model = model\n",
    "        self.color = color\n",
    "        self.name = name\n",
    "        self.brand = brand\n",
    "        self.engine_no = engine_no\n",
    "def method1(self):\n",
    "print(\"method1\")\n",
    "def method2(self):\n",
    "print(\"method2\")\n",
    "def method3(self):\n",
    "print(\"method3\")\n",
    "#these are 3 methods defined now let's come to objects.\n",
    "obj1 = Car(\"model\")\n",
    "obj2 = Car(\"color\")\n",
    "obj3 = Car(\"name\")\n",
    "obj4 = Car(\"brand\")\n",
    "obj5 = Car(\"engine_no\")"
   ]
  },
  {
   "cell_type": "code",
   "execution_count": null,
   "metadata": {},
   "outputs": [],
   "source": []
  }
 ],
 "metadata": {
  "kernelspec": {
   "display_name": "Python 3",
   "language": "python",
   "name": "python3"
  },
  "language_info": {
   "codemirror_mode": {
    "name": "ipython",
    "version": 3
   },
   "file_extension": ".py",
   "mimetype": "text/x-python",
   "name": "python",
   "nbconvert_exporter": "python",
   "pygments_lexer": "ipython3",
   "version": "3.7.3"
  }
 },
 "nbformat": 4,
 "nbformat_minor": 2
}
